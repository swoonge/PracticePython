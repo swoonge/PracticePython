{
 "cells": [
  {
   "cell_type": "code",
   "execution_count": 24,
   "metadata": {},
   "outputs": [
    {
     "name": "stdout",
     "output_type": "stream",
     "text": [
      "10\n",
      "11\n",
      "3\n",
      "11\n"
     ]
    }
   ],
   "source": [
    "## 정수\n",
    "# 파이썬에서 정수는 int로 표현하며, 불변(immutable)이다. 불변형 객체는 변수와 객체 참조간에 차이가 없다.\n",
    "# 정수는 컴퓨터 메모리에 의해 제한되며, 최소 4바이트(32비트)를 차지한다. 파이썬에서는 정수의 크기에 제한이 없다.\n",
    "# 정수 크기 확인\n",
    "x = 999\n",
    "print(x.bit_length())  # 10\n",
    "# 정수 casting\n",
    "s = '11'\n",
    "d = int(s)\n",
    "print(d)  # 11\n",
    "b = int(s, 2) # int(문자열, 밑) 으로 원하는 진수 표현 가능. 2진수\n",
    "print(b)  # 3\n",
    "b = int(s, 10) # 10진수\n",
    "print(b)  # 11"
   ]
  },
  {
   "cell_type": "code",
   "execution_count": 29,
   "metadata": {},
   "outputs": [
    {
     "name": "stdout",
     "output_type": "stream",
     "text": [
      "False\n",
      "None\n",
      "3.3333333333333335\n",
      "3\n",
      "1\n",
      "(3, 1)\n",
      "113.87\n",
      "110.0\n",
      "(1, 4)\n",
      "False\n",
      "True\n"
     ]
    }
   ],
   "source": [
    "## 부동소수점\n",
    "# 부동소수점은 float로 표현하며, 불변(immutable)이다. 부동소수점은 8바이트(64비트)를 차지한다.\n",
    "# 부동소수점은 두가지 표현 방식이 있다. single precision(32비트)과 double precision(64비트)이다.\n",
    "\n",
    "## 부동소수점의 연산 주의사항\n",
    "# 10진수 부동소수점은 2진수로 변환되어 저장된다. 이로 인해 부동소수점 연산은 정확하지 않을 수 있다. 따라서 부동소수점 연산은 주의해야 한다.\n",
    "print(0.1 + 0.2 == 0.3)  # False\n",
    "# 따라서 부동소수점 연산은 round() 함수를 사용하여 반올림을 하거나, unittest 모듈의 assertAlmostEqual() 함수를 사용하여 비교하는 등의 방법을 사용한다. (특정 정밀도 이하로 비교)\n",
    "# assertAlmostEqual() 함수는 두 값이 특정 정밀도 이하로 같은지 비교한다. 특정 값을 반환하는 것이 아니라 조건이 맞으면 None을, 아니면 AssertionError를 반환한다.\n",
    "import unittest\n",
    "print(unittest.TestCase().assertAlmostEqual(0.1 + 0.2, 0.3, places=10))  # None\n",
    "\n",
    "## 정수와 부동소수점의 메서드\n",
    "# 파이썬에서 나누기 연산자 / 는 항상 부동소수점을 반환한다. 정수를 반환하려면 // 연산자를 사용한다. % 연산자는 나머지를 반환한다. 또는 divmod() 함수를 사용할 수 있다(몫과 나머지 반환).\n",
    "print(10 / 3)  # 3.3333333333333335\n",
    "print(10 // 3)  # 3\n",
    "print(10 % 3)  # 1\n",
    "print(divmod(10, 3))  # (3, 1)\n",
    "# round() 함수는 반올림을 한다. 두 번째 인자로 소수점 이하 자릿수를 지정할 수 있다.\n",
    "print(round(113.866, 2))  # 113.87\n",
    "print(round(113.866, -1))  # 110.0\n",
    "# as_integer_ratio() 메서드는 부동소수점을 분수로 표현한다.\n",
    "print(0.25.as_integer_ratio())  # (1, 4)\n",
    "# is_integer() 메서드는 부동소수점이 정수인지 확인한다.\n",
    "print(0.25.is_integer())  # False\n",
    "print(1.0.is_integer())  # True\n"
   ]
  },
  {
   "cell_type": "markdown",
   "metadata": {},
   "source": []
  },
  {
   "cell_type": "code",
   "execution_count": 32,
   "metadata": {},
   "outputs": [
    {
     "name": "stdout",
     "output_type": "stream",
     "text": [
      "3.0\n",
      "4.0\n",
      "(3-4j)\n",
      "0.9272952180016122\n",
      "(5.0, 0.9272952180016122)\n",
      "(3+3.9999999999999996j)\n",
      "3.141592653589793\n",
      "2.718281828459045\n"
     ]
    }
   ],
   "source": [
    "## 복소수\n",
    "# 복소수는 complex로 표현하며, 불변(immutable)이다. 복소수는 실수부와 허수부로 이루어져 있다.\n",
    "# 복소수는 실수부와 허수부를 표현하는데, 허수부는 j로 표현한다.\n",
    "c = 3 + 4j\n",
    "# 복소수는 real, imag, conjugate() 메서드를 사용하여 실수부, 허수부, 켤레복소수를 구할 수 있다.\n",
    "print(c.real)  # 3.0\n",
    "print(c.imag)  # 4.0\n",
    "print(c.conjugate())  # (3-4j)\n",
    "\n",
    "## cmath 모듈을 사용하면 math에 있는 대부분의 삼각함수 및 로그함수를 복소수에 대해 계산할 수 있다.\n",
    "# 또한 phase(), polar(), rect(), pi, e, inf, nan 등의 복소수 전용 함수도 제공한다.\n",
    "import cmath\n",
    "print(cmath.phase(c))  # 0.9272952180016122\n",
    "print(cmath.polar(c))  # (5.0, 0.9272952180016122)\n",
    "print(cmath.rect(5, 0.9272952180016122))  # (3.0000000000000004+3.9999999999999996j)\n",
    "print(cmath.pi)  # 3.141592653589793\n",
    "print(cmath.e)  # 2.718281828459045\n"
   ]
  },
  {
   "cell_type": "code",
   "execution_count": 35,
   "metadata": {},
   "outputs": [
    {
     "name": "stdout",
     "output_type": "stream",
     "text": [
      "테스트 통과!\n"
     ]
    }
   ],
   "source": [
    "## fraction 모듈\n",
    "# fraction 모듈은 분수를 표현하는 Fraction 클래스를 제공한다. Fraction 클래스는 분자와 분모를 입력받아 분수를 생성한다.\n",
    "from fractions import Fraction\n",
    "\n",
    "def rounding_floats(number1, places):\n",
    "    '''부동소수점을 반올림한다.'''\n",
    "    return round(number1, places)\n",
    "\n",
    "def float_to_fractions(number):\n",
    "    '''부동소수점을 분수로 변환한다.'''\n",
    "    return Fraction(*number.as_integer_ratio())\n",
    "\n",
    "def get_denominator(number1, number2):\n",
    "    '''분모를 반환한다.'''\n",
    "    return Fraction(number1, number2).denominator\n",
    "\n",
    "def get_numerator(number1, number2):\n",
    "    '''분자를 반환한다.''' \n",
    "    return Fraction(number1, number2).numerator\n",
    "\n",
    "def test_testing_floats():\n",
    "    number1 = 1.25\n",
    "    number2 = 1\n",
    "    number3 = -1\n",
    "    number4 = 5/4\n",
    "    number5 = 6\n",
    "    assert(rounding_floats(number1, number2) == 1.2) # 반올림\n",
    "    assert(float_to_fractions(number1) == number4) # 부동소수점을 분수로 변환\n",
    "    assert(get_denominator(number2, number5) == number5) # 분모 반환\n",
    "    assert(get_numerator(number2, number5) == number2) # 분자 반환\n",
    "    print('테스트 통과!')\n",
    "\n",
    "test_testing_floats()  # 테스트 통과!"
   ]
  },
  {
   "cell_type": "code",
   "execution_count": 42,
   "metadata": {},
   "outputs": [
    {
     "name": "stdout",
     "output_type": "stream",
     "text": [
      "False\n",
      "True\n",
      "1.105170918075647624811707826\n",
      "1.1051709180756477\n"
     ]
    }
   ],
   "source": [
    "## decimal 모듈\n",
    "# decimal 모듈은 부동소수점 문제를 해결하기 위한 모듈이다. decimal 모듈은 Decimal 클래스를 제공한다. Decimal 클래스는 정확한 10진수 부동소수점 연산을 제공한다.\n",
    "# Decimal() 메서드는 정수, 문자열 등을 인수로 받아 Decimal 객체를 생성한다.\n",
    "from decimal import Decimal\n",
    "import math\n",
    "x = 0.1\n",
    "y = 0.2\n",
    "z = 0.3\n",
    "print(x + y == z)  # False\n",
    "x = Decimal('0.1')\n",
    "y = Decimal('0.2')\n",
    "z = Decimal('0.3')\n",
    "print(x + y == z)  # True\n",
    "print(x.exp())  # 1.105170918075647624811707826\n",
    "print(math.exp(0.1))  # 1.1051709180756477"
   ]
  },
  {
   "cell_type": "code",
   "execution_count": null,
   "metadata": {},
   "outputs": [],
   "source": []
  }
 ],
 "metadata": {
  "kernelspec": {
   "display_name": "py310",
   "language": "python",
   "name": "python3"
  },
  "language_info": {
   "codemirror_mode": {
    "name": "ipython",
    "version": 3
   },
   "file_extension": ".py",
   "mimetype": "text/x-python",
   "name": "python",
   "nbconvert_exporter": "python",
   "pygments_lexer": "ipython3",
   "version": "3.10.14"
  }
 },
 "nbformat": 4,
 "nbformat_minor": 2
}
